{
  "nbformat": 4,
  "nbformat_minor": 0,
  "metadata": {
    "colab": {
      "name": "DC_1_BasicTools.ipynb",
      "provenance": [],
      "collapsed_sections": [],
      "authorship_tag": "ABX9TyMKmRzVTPWMiss/+sbI7/oz",
      "include_colab_link": true
    },
    "kernelspec": {
      "name": "python3",
      "display_name": "Python 3"
    }
  },
  "cells": [
    {
      "cell_type": "markdown",
      "metadata": {
        "id": "view-in-github",
        "colab_type": "text"
      },
      "source": [
        "<a href=\"https://colab.research.google.com/github/squeeko/DeepChem_projects/blob/master/DC_1_BasicTools.ipynb\" target=\"_parent\"><img src=\"https://colab.research.google.com/assets/colab-badge.svg\" alt=\"Open In Colab\"/></a>"
      ]
    },
    {
      "cell_type": "markdown",
      "metadata": {
        "id": "XRh3J9XSqzT3",
        "colab_type": "text"
      },
      "source": [
        "# Tutorial 1: The Basic Tools of the Deep Life Sciences\n",
        "\n",
        "Welcome to DeepChem's introductory tutorial for the deep life sciences. This series of notebooks is a step-by-step guide for you to get to know the new tools and techniques needed to do deep learning for the life sciences. We'll start from the basics, assuming that you're new to machine learning and the life sciences, and build up a repertoire of tools and techniques that you can use to do meaningful work in the life sciences.\n",
        "\n",
        "Scope: This tutorial will encompass both the machine learning and data handling needed to build systems for the deep life sciences.\n"
      ]
    },
    {
      "cell_type": "markdown",
      "metadata": {
        "id": "9pIrdmVtq9n4",
        "colab_type": "text"
      },
      "source": [
        "## Setup\n",
        "The first step is to get DeepChem up and running. We recommend using Google Colab to work through this tutorial series. You'll need to run the following commands to get DeepChem installed on your colab notebook. Note that this will take something like 5 minutes to run on your colab instance."
      ]
    },
    {
      "cell_type": "code",
      "metadata": {
        "id": "-jChbzRgp7Ca",
        "colab_type": "code",
        "colab": {
          "base_uri": "https://localhost:8080/",
          "height": 272
        },
        "outputId": "7374a1bb-4827-49ca-d2bc-798561ab7630"
      },
      "source": [
        "!curl -Lo conda_installer.py https://raw.githubusercontent.com/deepchem/deepchem/master/scripts/colab_install.py\n",
        "\n",
        "import conda_installer\n",
        "conda_installer.install()\n",
        "!root/miniconda/bin/conda info -e"
      ],
      "execution_count": 1,
      "outputs": [
        {
          "output_type": "stream",
          "text": [
            "  % Total    % Received % Xferd  Average Speed   Time    Time     Time  Current\n",
            "                                 Dload  Upload   Total   Spent    Left  Speed\n",
            "100  3490  100  3490    0     0   9483      0 --:--:-- --:--:-- --:--:--  9483\n"
          ],
          "name": "stdout"
        },
        {
          "output_type": "stream",
          "text": [
            "add /root/miniconda/lib/python3.6/site-packages to PYTHONPATH\n",
            "python version: 3.6.9\n",
            "fetching installer from https://repo.continuum.io/miniconda/Miniconda3-latest-Linux-x86_64.sh\n",
            "done\n",
            "installing miniconda to /root/miniconda\n",
            "done\n",
            "installing rdkit, openmm, pdbfixer\n",
            "added omnia to channels\n",
            "added conda-forge to channels\n",
            "done\n",
            "conda packages installation finished!\n"
          ],
          "name": "stderr"
        },
        {
          "output_type": "stream",
          "text": [
            "/bin/bash: root/miniconda/bin/conda: No such file or directory\n"
          ],
          "name": "stdout"
        }
      ]
    },
    {
      "cell_type": "code",
      "metadata": {
        "id": "KC3zPxoCrYGz",
        "colab_type": "code",
        "colab": {
          "base_uri": "https://localhost:8080/",
          "height": 343
        },
        "outputId": "303301bd-deca-4493-e840-e1df959cbdd4"
      },
      "source": [
        "!pip install --pre deepchem"
      ],
      "execution_count": 2,
      "outputs": [
        {
          "output_type": "stream",
          "text": [
            "Collecting deepchem\n",
            "\u001b[?25l  Downloading https://files.pythonhosted.org/packages/5a/23/51a96cba097428794e3864a4c969f2c4f27f450a9c074cd3f69aecd87169/deepchem-2.4.0rc1.dev20200921195626.tar.gz (390kB)\n",
            "\r\u001b[K     |▉                               | 10kB 15.3MB/s eta 0:00:01\r\u001b[K     |█▊                              | 20kB 1.7MB/s eta 0:00:01\r\u001b[K     |██▌                             | 30kB 2.2MB/s eta 0:00:01\r\u001b[K     |███▍                            | 40kB 2.5MB/s eta 0:00:01\r\u001b[K     |████▏                           | 51kB 2.0MB/s eta 0:00:01\r\u001b[K     |█████                           | 61kB 2.2MB/s eta 0:00:01\r\u001b[K     |█████▉                          | 71kB 2.4MB/s eta 0:00:01\r\u001b[K     |██████▊                         | 81kB 2.7MB/s eta 0:00:01\r\u001b[K     |███████▌                        | 92kB 2.9MB/s eta 0:00:01\r\u001b[K     |████████▍                       | 102kB 2.7MB/s eta 0:00:01\r\u001b[K     |█████████▏                      | 112kB 2.7MB/s eta 0:00:01\r\u001b[K     |██████████                      | 122kB 2.7MB/s eta 0:00:01\r\u001b[K     |███████████                     | 133kB 2.7MB/s eta 0:00:01\r\u001b[K     |███████████▊                    | 143kB 2.7MB/s eta 0:00:01\r\u001b[K     |████████████▋                   | 153kB 2.7MB/s eta 0:00:01\r\u001b[K     |█████████████▍                  | 163kB 2.7MB/s eta 0:00:01\r\u001b[K     |██████████████▎                 | 174kB 2.7MB/s eta 0:00:01\r\u001b[K     |███████████████                 | 184kB 2.7MB/s eta 0:00:01\r\u001b[K     |████████████████                | 194kB 2.7MB/s eta 0:00:01\r\u001b[K     |████████████████▊               | 204kB 2.7MB/s eta 0:00:01\r\u001b[K     |█████████████████▋              | 215kB 2.7MB/s eta 0:00:01\r\u001b[K     |██████████████████▍             | 225kB 2.7MB/s eta 0:00:01\r\u001b[K     |███████████████████▎            | 235kB 2.7MB/s eta 0:00:01\r\u001b[K     |████████████████████▏           | 245kB 2.7MB/s eta 0:00:01\r\u001b[K     |█████████████████████           | 256kB 2.7MB/s eta 0:00:01\r\u001b[K     |█████████████████████▉          | 266kB 2.7MB/s eta 0:00:01\r\u001b[K     |██████████████████████▋         | 276kB 2.7MB/s eta 0:00:01\r\u001b[K     |███████████████████████▌        | 286kB 2.7MB/s eta 0:00:01\r\u001b[K     |████████████████████████▎       | 296kB 2.7MB/s eta 0:00:01\r\u001b[K     |█████████████████████████▏      | 307kB 2.7MB/s eta 0:00:01\r\u001b[K     |██████████████████████████      | 317kB 2.7MB/s eta 0:00:01\r\u001b[K     |██████████████████████████▉     | 327kB 2.7MB/s eta 0:00:01\r\u001b[K     |███████████████████████████▋    | 337kB 2.7MB/s eta 0:00:01\r\u001b[K     |████████████████████████████▌   | 348kB 2.7MB/s eta 0:00:01\r\u001b[K     |█████████████████████████████▍  | 358kB 2.7MB/s eta 0:00:01\r\u001b[K     |██████████████████████████████▏ | 368kB 2.7MB/s eta 0:00:01\r\u001b[K     |███████████████████████████████ | 378kB 2.7MB/s eta 0:00:01\r\u001b[K     |███████████████████████████████▉| 389kB 2.7MB/s eta 0:00:01\r\u001b[K     |████████████████████████████████| 399kB 2.7MB/s \n",
            "\u001b[?25hRequirement already satisfied: joblib in /usr/local/lib/python3.6/dist-packages (from deepchem) (0.16.0)\n",
            "Requirement already satisfied: numpy in /usr/local/lib/python3.6/dist-packages (from deepchem) (1.18.5)\n",
            "Requirement already satisfied: pandas in /usr/local/lib/python3.6/dist-packages (from deepchem) (1.0.5)\n",
            "Requirement already satisfied: scikit-learn in /usr/local/lib/python3.6/dist-packages (from deepchem) (0.22.2.post1)\n",
            "Requirement already satisfied: scipy in /usr/local/lib/python3.6/dist-packages (from deepchem) (1.4.1)\n",
            "Requirement already satisfied: pytz>=2017.2 in /usr/local/lib/python3.6/dist-packages (from pandas->deepchem) (2018.9)\n",
            "Requirement already satisfied: python-dateutil>=2.6.1 in /usr/local/lib/python3.6/dist-packages (from pandas->deepchem) (2.8.1)\n",
            "Requirement already satisfied: six>=1.5 in /usr/local/lib/python3.6/dist-packages (from python-dateutil>=2.6.1->pandas->deepchem) (1.15.0)\n",
            "Building wheels for collected packages: deepchem\n",
            "  Building wheel for deepchem (setup.py) ... \u001b[?25l\u001b[?25hdone\n",
            "  Created wheel for deepchem: filename=deepchem-2.4.0rc1.dev20200921220318-cp36-none-any.whl size=495597 sha256=dade34ec8ed237af22a4bc2a49a3cc749f89b63f00e79bfbc5a80758f4816c6b\n",
            "  Stored in directory: /root/.cache/pip/wheels/a4/a6/b4/ba3ded5d5350c268f459a51638e265939b9ab601f1ce3e9732\n",
            "Successfully built deepchem\n",
            "Installing collected packages: deepchem\n",
            "Successfully installed deepchem-2.4.0rc1.dev20200921220318\n"
          ],
          "name": "stdout"
        }
      ]
    },
    {
      "cell_type": "code",
      "metadata": {
        "id": "DmcGu2kKsUSy",
        "colab_type": "code",
        "colab": {
          "base_uri": "https://localhost:8080/",
          "height": 34
        },
        "outputId": "da1e80c1-5b1c-4761-ce8e-d937eff520bf"
      },
      "source": [
        "import deepchem as dc\n",
        "print(dc.__version__)"
      ],
      "execution_count": 3,
      "outputs": [
        {
          "output_type": "stream",
          "text": [
            "2.4.0-rc1.dev\n"
          ],
          "name": "stdout"
        }
      ]
    },
    {
      "cell_type": "markdown",
      "metadata": {
        "id": "Y2x6bWXAsdOC",
        "colab_type": "text"
      },
      "source": [
        "# Training a Model with DeepChem: A First Example\n",
        "\n",
        "Deep learning can be used to solve many sorts of problems, but the basic workflow is usually the same. Here are the typical steps you follow.\n",
        "\n",
        "\n",
        "1.   Select the data set you will train your model on (or create a new data set if there isn't an existing suitable one).\n",
        "\n",
        "2.   Create the model.\n",
        "\n",
        "3.   Train the model on the data.\n",
        "\n",
        "4.   Evaluate the model on an independent test set to see how well it works.\n",
        "\n",
        "5.   Use the model to make predictions about new data.\n",
        "\n",
        "\n",
        "\n",
        "\n",
        "\n",
        "\n",
        "\n",
        "\n",
        "\n",
        "\n",
        "With DeepChem, each of these steps can be as little as one or two lines of Python code. In this tutorial we will walk through a basic example showing the complete workflow to solve a real world scientific problem.\n",
        "\n",
        "The problem we will solve is predicting the solubility of small molecules given their chemical formulas. This is a very important property in drug development: if a proposed drug isn't soluble enough, you probably won't be able to get enough into the patient's bloodstream to have a therapeutic effect. The first thing we need is a data set of measured solubilities for real molecules. One of the core components of DeepChem is MoleculeNet, a diverse collection of chemical and molecular data sets. For this tutorial, we can use the Delaney solubility data set."
      ]
    },
    {
      "cell_type": "code",
      "metadata": {
        "id": "1NN0THBJsaMg",
        "colab_type": "code",
        "colab": {}
      },
      "source": [
        "tasks, datasets, transformers = dc.molnet.load_delaney(featurizer='GraphConv')\n",
        "train_dataset, valid_dataset, test_dataset = datasets"
      ],
      "execution_count": 4,
      "outputs": []
    },
    {
      "cell_type": "markdown",
      "metadata": {
        "id": "pHF-cJZBtfOW",
        "colab_type": "text"
      },
      "source": [
        "I won't say too much about this code right now. We will see many similar examples in later tutorials. There are two details I do want to draw your attention to. First, notice the featurizer argument passed to the load_delaney() function. Molecules can be represented in many ways. We therefore tell it which representation we want to use, or in more technical language, how to \"featurize\" the data. Second, notice that we actually get three different data sets: a training set, a validation set, and a test set. Each of these serves a different function in the standard deep learning workflow.\n",
        "\n",
        "Now that we have our data, the next step is to create a model. We will use a particular kind of model called a \"graph convolutional network\", or \"graphconv\" for short."
      ]
    },
    {
      "cell_type": "code",
      "metadata": {
        "id": "jpu6ESZ-tdTb",
        "colab_type": "code",
        "colab": {}
      },
      "source": [
        "model = dc.models.GraphConvModel(n_tasks=1, mode='regression', dropout=0.2)"
      ],
      "execution_count": 5,
      "outputs": []
    },
    {
      "cell_type": "markdown",
      "metadata": {
        "id": "za9SGVcOueRW",
        "colab_type": "text"
      },
      "source": [
        "Here again I will not say much about the code. Later tutorials will give lots more information about GraphConvModel, as well as other types of models provided by DeepChem.\n",
        "\n",
        "We now need to train the model on the data set. We simply give it the data set and tell it how many epochs of training to perform (that is, how many complete passes through the data to make)."
      ]
    },
    {
      "cell_type": "code",
      "metadata": {
        "id": "DbwmBwbgudRx",
        "colab_type": "code",
        "colab": {
          "base_uri": "https://localhost:8080/",
          "height": 88
        },
        "outputId": "4e0e70eb-0100-478c-c39d-0f9834be7658"
      },
      "source": [
        "model.fit(train_dataset, nb_epoch=100)"
      ],
      "execution_count": 6,
      "outputs": [
        {
          "output_type": "stream",
          "text": [
            "/usr/local/lib/python3.6/dist-packages/tensorflow/python/framework/indexed_slices.py:432: UserWarning: Converting sparse IndexedSlices to a dense Tensor of unknown shape. This may consume a large amount of memory.\n",
            "  \"Converting sparse IndexedSlices to a dense Tensor of unknown shape. \"\n"
          ],
          "name": "stderr"
        },
        {
          "output_type": "execute_result",
          "data": {
            "text/plain": [
              "0.11356877326965333"
            ]
          },
          "metadata": {
            "tags": []
          },
          "execution_count": 6
        }
      ]
    },
    {
      "cell_type": "markdown",
      "metadata": {
        "id": "6wynWejCu4TO",
        "colab_type": "text"
      },
      "source": [
        "If everything has gone well, we should now have a fully trained model! But do we? To find out, we must evaluate the model on the test set. We do that by selecting an evaluation metric and calling evaluate() on the model. For this example, let's use the Pearson correlation, also known as r2, as our metric. We can evaluate it on both the training set and test set."
      ]
    },
    {
      "cell_type": "code",
      "metadata": {
        "id": "dVnsKpKDuuUA",
        "colab_type": "code",
        "colab": {
          "base_uri": "https://localhost:8080/",
          "height": 51
        },
        "outputId": "8c1a5a76-a7e5-4fa5-f6b2-31eb7f24a56e"
      },
      "source": [
        "metric = dc.metrics.Metric(dc.metrics.pearson_r2_score)\n",
        "print(\"Training set score: \", model.evaluate(train_dataset, [metric], transformers))\n",
        "print(\"Test set score: \", model.evaluate(test_dataset, [metric], transformers))"
      ],
      "execution_count": 8,
      "outputs": [
        {
          "output_type": "stream",
          "text": [
            "Training set score:  {'pearson_r2_score': 0.9126107726551816}\n",
            "Test set score:  {'pearson_r2_score': 0.7683041871585818}\n"
          ],
          "name": "stdout"
        }
      ]
    },
    {
      "cell_type": "markdown",
      "metadata": {
        "id": "_sJIW5lXvtJ0",
        "colab_type": "text"
      },
      "source": [
        "Notice that it has a higher score on the training set than the test set. Models usually perform better on the particular data they were trained on than they do on similar but independent data. This is called \"overfitting\", and it is the reason it is essential to evaluate your model on an independent test set.\n",
        "\n",
        "Our model still has quite respectable performance on the test set. For comparison, a model that produced totally random outputs would have a correlation of 0, while one that made perfect predictions would have a correlation of 1. Our model does quite well, so now we can use it to make predictions about other molecules we care about.\n",
        "\n",
        "Since this is just a tutorial and we don't have any other molecules we specifically want to predict, let's just use the first ten molecules from the test set. For each one we print out the chemical structure (represented as a SMILES string) and the predicted solubility."
      ]
    },
    {
      "cell_type": "code",
      "metadata": {
        "id": "QwjC_V7gvYzt",
        "colab_type": "code",
        "colab": {
          "base_uri": "https://localhost:8080/",
          "height": 187
        },
        "outputId": "f21c6712-f169-4ede-af4c-714ffecb5051"
      },
      "source": [
        "solubilities = model.predict_on_batch(test_dataset.X[:10])\n",
        "for molecule, solubility in zip(test_dataset.ids, solubilities):\n",
        "  print(solubility, molecule)"
      ],
      "execution_count": 9,
      "outputs": [
        {
          "output_type": "stream",
          "text": [
            "[-1.9822992] C1c2ccccc2c3ccc4ccccc4c13\n",
            "[0.38088506] COc1ccccc1Cl\n",
            "[-1.1326052] COP(=S)(OC)Oc1cc(Cl)c(Br)cc1Cl\n",
            "[0.15392745] ClC(Cl)CC(=O)NC2=C(Cl)C(=O)c1ccccc1C2=O\n",
            "[-1.3780257] ClC(Cl)C(c1ccc(Cl)cc1)c2ccc(Cl)cc2 \n",
            "[2.5349941] COC(=O)C=C\n",
            "[0.16927208] CN(C)C(=O)Nc2ccc(Oc1ccc(Cl)cc1)cc2\n",
            "[1.0321488] N(=Nc1ccccc1)c2ccccc2\n",
            "[0.17459251] CC(C)c1ccc(C)cc1\n",
            "[1.4632709] Oc1c(Cl)cccc1Cl\n"
          ],
          "name": "stdout"
        }
      ]
    }
  ]
}